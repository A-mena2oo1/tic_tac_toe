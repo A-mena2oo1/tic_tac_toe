{
 "cells": [
  {
   "cell_type": "code",
   "execution_count": null,
   "id": "8ae378b6",
   "metadata": {},
   "outputs": [],
   "source": [
    "sit =1\n",
    "def main():\n",
    "    while sit :\n",
    "        player = list(input('turn'))\n",
    "        #print_board(board)\n",
    "        win(board,player)\n",
    "        print_board(board)"
   ]
  },
  {
   "cell_type": "code",
   "execution_count": null,
   "id": "242374a1",
   "metadata": {},
   "outputs": [],
   "source": [
    "def print_board(game_board):\n",
    "    j=1\n",
    "    for i in game_board:\n",
    "        if j%3==0 :\n",
    "            print(*i)\n",
    "            print('\\n')\n",
    "        else:\n",
    "            print(*i,end=\" \")\n",
    "        j+=1"
   ]
  },
  {
   "cell_type": "code",
   "execution_count": 177,
   "id": "77fa2399",
   "metadata": {},
   "outputs": [],
   "source": [
    "def play(board1,player1):\n",
    "    i=0\n",
    "    x=int(player1[0])\n",
    "    for i in range(10):\n",
    "        if i == x :\n",
    "            \n",
    "            if board1[x] == ['-']:\n",
    "                board1[x]=player1[1]\n",
    "                break  \n",
    "            else:\n",
    "                print('This place is occuppied')\n",
    "                #call function to input the same player\n",
    "                break\n",
    "               \n",
    "    return board1 \n"
   ]
  },
  {
   "cell_type": "code",
   "execution_count": 178,
   "id": "a2aa984c",
   "metadata": {},
   "outputs": [],
   "source": [
    "def tie():\n",
    "    i=0\n",
    "    j=0\n",
    "    for i in range(9):\n",
    "        \n",
    "        if board[i] == ['-']:\n",
    "            j+=1\n",
    "    if j==9:\n",
    "        print('Tie')\n",
    "        #call new function\n",
    "        sit=0\n",
    "    \n",
    "        "
   ]
  },
  {
   "cell_type": "code",
   "execution_count": 179,
   "id": "eb0a0c16",
   "metadata": {},
   "outputs": [],
   "source": [
    "tie()"
   ]
  },
  {
   "cell_type": "code",
   "execution_count": 180,
   "id": "0fc068f2",
   "metadata": {},
   "outputs": [],
   "source": [
    "def win(board,player):\n",
    "    board = play(board,player)\n",
    "    i=0\n",
    "    for i in range(3):\n",
    "        if board[i]==board[i+3] and board[i+3]==board[i+6] and board[i] != ['-'] and (i ==0 or i==1 or i==2):\n",
    "            print(board[i]+ ' wins ')\n",
    "            sit=0\n",
    "            break        \n",
    "        elif board[i] == board[i+1] and board[i+1] == board[i+2] and board[i] != ['-'] and i == 0:\n",
    "            print(board[i]+ ' wins ')\n",
    "            sit=0\n",
    "            break\n",
    "        elif board[i] == board[i+2] and board[i+2] == board[i+4] and board[i] != ['-'] and i == 2:\n",
    "            print(board[i]+ ' wins ')\n",
    "            sit=0\n",
    "            break\n",
    "        elif board[i] == board[i+4] and  board[i+4] == board[8] and board[i] != ['-'] and i==0:\n",
    "            print(board[i]+ ' wins ')\n",
    "            sit=0\n",
    "            break\n",
    "    j=3   \n",
    "    for j in range(7) :\n",
    "        if board[j] == board[j+1] and board[j+1] == board[j+2] and board[j] != ['-'] and (i==6 or i==3):\n",
    "            print(board[j]+ ' wins ')\n",
    "            sit=0\n",
    "            break\n",
    "        \n",
    "        else:\n",
    "            tie()\n",
    "            \n",
    "        "
   ]
  },
  {
   "cell_type": "code",
   "execution_count": 181,
   "id": "c3d10d5e",
   "metadata": {},
   "outputs": [],
   "source": [
    "#print_board(board)\n",
    "#board = play(board,player)"
   ]
  },
  {
   "cell_type": "code",
   "execution_count": null,
   "id": "d6642b41",
   "metadata": {},
   "outputs": [
    {
     "name": "stdout",
     "output_type": "stream",
     "text": [
      "turn1x\n",
      "- - -\n",
      "\n",
      "\n",
      "- - -\n",
      "\n",
      "\n",
      "- - -\n",
      "\n",
      "\n",
      "- x -\n",
      "\n",
      "\n",
      "- - -\n",
      "\n",
      "\n",
      "- - -\n",
      "\n",
      "\n"
     ]
    }
   ],
   "source": [
    "board = [['-'],['-'],['-'],['-'],['-'],['-'],['-'],['-'],['-']] \n",
    "main()"
   ]
  },
  {
   "cell_type": "code",
   "execution_count": null,
   "id": "255e31d4",
   "metadata": {},
   "outputs": [],
   "source": []
  }
 ],
 "metadata": {
  "kernelspec": {
   "display_name": "Python 3 (ipykernel)",
   "language": "python",
   "name": "python3"
  },
  "language_info": {
   "codemirror_mode": {
    "name": "ipython",
    "version": 3
   },
   "file_extension": ".py",
   "mimetype": "text/x-python",
   "name": "python",
   "nbconvert_exporter": "python",
   "pygments_lexer": "ipython3",
   "version": "3.10.9"
  }
 },
 "nbformat": 4,
 "nbformat_minor": 5
}
